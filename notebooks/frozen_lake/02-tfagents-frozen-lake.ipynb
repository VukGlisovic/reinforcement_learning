{
 "cells": [
  {
   "cell_type": "markdown",
   "id": "changed-ukraine",
   "metadata": {},
   "source": [
    "Code based on https://www.baeldung.com/cs/reinforcement-learning-neural-network"
   ]
  },
  {
   "cell_type": "code",
   "execution_count": null,
   "id": "fatal-harmony",
   "metadata": {},
   "outputs": [],
   "source": [
    "import base64\n",
    "import imageio\n",
    "import IPython\n",
    "import numpy as np\n",
    "import pandas as pd\n",
    "import matplotlib.pyplot as plt\n",
    "import seaborn as sns\n",
    "import gym\n",
    "import tensorflow as tf\n",
    "from tqdm import tqdm\n",
    "\n",
    "from tf_agents.agents.dqn import dqn_agent\n",
    "from tf_agents.environments import suite_gym, tf_py_environment, TimeLimit\n",
    "from tf_agents.environments.gym_wrapper import GymWrapper\n",
    "from tf_agents.eval import metric_utils\n",
    "from tf_agents.metrics import tf_metrics\n",
    "from tf_agents.networks import sequential\n",
    "from tf_agents.policies import random_tf_policy\n",
    "from tf_agents.replay_buffers import tf_uniform_replay_buffer\n",
    "from tf_agents.trajectories import trajectory\n",
    "from tf_agents.specs import tensor_spec\n",
    "from tf_agents.utils import common\n",
    "\n",
    "np.random.seed(42)"
   ]
  },
  {
   "cell_type": "markdown",
   "id": "caroline-hayes",
   "metadata": {},
   "source": [
    "# Create the environment with slight adjustments"
   ]
  },
  {
   "cell_type": "code",
   "execution_count": null,
   "id": "lined-allocation",
   "metadata": {},
   "outputs": [],
   "source": [
    "env_name = 'FrozenLake-v1'\n",
    "gym_env = gym.make(env_name, is_slippery=False)\n",
    "gym_env.render()\n",
    "\n",
    "\n",
    "class FrozenLake(gym.envs.toy_text.FrozenLakeEnv):\n",
    "    \n",
    "    dead_states = [5, 7, 11, 12]\n",
    "    gold_state = 15\n",
    "    \n",
    "    def step(self, a):\n",
    "        state, reward, terminal, info = super().step(a)\n",
    "        if state in self.dead_states:\n",
    "            reward = -1\n",
    "        elif state == self.gold_state:\n",
    "            reward = 10\n",
    "        else:\n",
    "            reward = -1\n",
    "        return state, reward, terminal, info"
   ]
  },
  {
   "cell_type": "code",
   "execution_count": null,
   "id": "beneficial-analyst",
   "metadata": {},
   "outputs": [],
   "source": [
    "env_kwargs = {'is_slippery': False}\n",
    "\n",
    "train_py_env = TimeLimit(GymWrapper(FrozenLake(**env_kwargs)), duration=100)\n",
    "eval_py_env = TimeLimit(GymWrapper(FrozenLake(**env_kwargs)), duration=100)"
   ]
  },
  {
   "cell_type": "code",
   "execution_count": null,
   "id": "disturbed-motor",
   "metadata": {},
   "outputs": [],
   "source": [
    "print('Observation Spec:\\n', train_py_env.time_step_spec().observation)\n",
    "print('Reward Spec:\\n', train_py_env.time_step_spec().reward)\n",
    "print('Action Spec:\\n', train_py_env.action_spec())"
   ]
  },
  {
   "cell_type": "code",
   "execution_count": null,
   "id": "advisory-technology",
   "metadata": {},
   "outputs": [],
   "source": [
    "# convert numpy arrays to tensors within the environment\n",
    "train_env = tf_py_environment.TFPyEnvironment(train_py_env)\n",
    "eval_env = tf_py_environment.TFPyEnvironment(eval_py_env)"
   ]
  },
  {
   "cell_type": "markdown",
   "id": "daily-postcard",
   "metadata": {},
   "source": [
    "# Create the agent and its Q-network"
   ]
  },
  {
   "cell_type": "code",
   "execution_count": null,
   "id": "regular-conviction",
   "metadata": {},
   "outputs": [],
   "source": [
    "# network with one final Dense layer that use num_actions output nodes\n",
    "network_layers = [\n",
    "    tf.keras.layers.Lambda(lambda x: tf.one_hot(x, depth=16)),\n",
    "    tf.keras.layers.Dense(20, \n",
    "                          activation=tf.keras.activations.relu,\n",
    "                          name='input_layer'),\n",
    "    tf.keras.layers.Dense(train_py_env.action_spec().num_values, \n",
    "                          activation='linear', \n",
    "                          kernel_initializer=tf.keras.initializers.RandomUniform(minval=-0.03, maxval=0.03), \n",
    "                          bias_initializer=tf.keras.initializers.Constant(0.0),\n",
    "                          name='output_layer')\n",
    "]\n",
    "\n",
    "q_net = sequential.Sequential(network_layers)"
   ]
  },
  {
   "cell_type": "code",
   "execution_count": null,
   "id": "reverse-showcase",
   "metadata": {},
   "outputs": [],
   "source": [
    "optimizer = tf.keras.optimizers.Adam(learning_rate=0.005)\n",
    "\n",
    "train_step_counter = tf.Variable(0)\n",
    "\n",
    "agent = dqn_agent.DqnAgent(\n",
    "    train_env.time_step_spec(),\n",
    "    train_env.action_spec(),\n",
    "    q_network=q_net,\n",
    "    optimizer=optimizer,\n",
    "    epsilon_greedy=1.0,\n",
    "    target_update_period=1000,\n",
    "    td_errors_loss_fn=common.element_wise_squared_loss,\n",
    "    train_step_counter=train_step_counter)\n",
    "\n",
    "agent.initialize()\n",
    "\n",
    "agent._q_network.summary()"
   ]
  },
  {
   "cell_type": "markdown",
   "id": "greenhouse-physiology",
   "metadata": {},
   "source": [
    "# Setup policies"
   ]
  },
  {
   "cell_type": "code",
   "execution_count": null,
   "id": "right-tourist",
   "metadata": {},
   "outputs": [],
   "source": [
    "eval_policy = agent.policy  # greedy policy\n",
    "collect_policy = agent.collect_policy  # epsilon-greedy policy\n",
    "\n",
    "random_policy = random_tf_policy.RandomTFPolicy(train_env.time_step_spec(), train_env.action_spec())  # random agent"
   ]
  },
  {
   "cell_type": "code",
   "execution_count": null,
   "id": "loving-universe",
   "metadata": {},
   "outputs": [],
   "source": [
    "def compute_avg_return(environment, policy, num_episodes=10):\n",
    "    total_return = 0.0\n",
    "    for _ in range(num_episodes):\n",
    "\n",
    "        time_step = environment.reset()\n",
    "        episode_return = 0.0\n",
    "\n",
    "        while not time_step.is_last():\n",
    "            action_step = policy.action(time_step)\n",
    "            time_step = environment.step(action_step.action)\n",
    "            episode_return += time_step.reward\n",
    "        \n",
    "        total_return += episode_return\n",
    "\n",
    "    avg_return = total_return / num_episodes\n",
    "    return avg_return.numpy()[0]"
   ]
  },
  {
   "cell_type": "code",
   "execution_count": null,
   "id": "premium-subdivision",
   "metadata": {},
   "outputs": [],
   "source": [
    "# average return under random policy\n",
    "compute_avg_return(eval_env, random_policy, num_episodes=100)"
   ]
  },
  {
   "cell_type": "markdown",
   "id": "obvious-therapist",
   "metadata": {},
   "source": [
    "# Create replay buffer"
   ]
  },
  {
   "cell_type": "code",
   "execution_count": null,
   "id": "rocky-agriculture",
   "metadata": {},
   "outputs": [],
   "source": [
    "replay_buffer_max_length = 5000\n",
    "\n",
    "replay_buffer = tf_uniform_replay_buffer.TFUniformReplayBuffer(\n",
    "    data_spec=agent.collect_data_spec,\n",
    "    batch_size=train_env.batch_size,  # train_env.batch_size=1\n",
    "    max_length=replay_buffer_max_length\n",
    ")"
   ]
  },
  {
   "cell_type": "code",
   "execution_count": null,
   "id": "liable-basics",
   "metadata": {},
   "outputs": [],
   "source": [
    "def collect_step(environment, policy, buffer):\n",
    "    time_step = environment.current_time_step()\n",
    "    action_step = policy.action(time_step)\n",
    "    next_time_step = environment.step(action_step.action)\n",
    "    traj = trajectory.from_transition(time_step, action_step, next_time_step)\n",
    "\n",
    "    # Add trajectory to the replay buffer\n",
    "    buffer.add_batch(traj)\n",
    "\n",
    "\n",
    "def collect_data(env, policy, buffer, steps):\n",
    "    for _ in range(steps):\n",
    "        collect_step(env, policy, buffer)\n",
    "\n",
    "        \n",
    "initial_collect_steps = 100\n",
    "collect_data(train_env, random_policy, replay_buffer, initial_collect_steps)"
   ]
  },
  {
   "cell_type": "code",
   "execution_count": null,
   "id": "amended-aurora",
   "metadata": {},
   "outputs": [],
   "source": [
    "iter(replay_buffer.as_dataset(single_deterministic_pass=True)).next()"
   ]
  },
  {
   "cell_type": "code",
   "execution_count": null,
   "id": "purple-enough",
   "metadata": {},
   "outputs": [],
   "source": [
    "batch_size = 16\n",
    "\n",
    "# Dataset generates trajectories with shape [Bx2x...]\n",
    "dataset = replay_buffer.as_dataset(\n",
    "    num_parallel_calls=3, \n",
    "    sample_batch_size=batch_size, \n",
    "    num_steps=2\n",
    ").prefetch(3)\n",
    "\n",
    "dataset"
   ]
  },
  {
   "cell_type": "code",
   "execution_count": null,
   "id": "peaceful-tuner",
   "metadata": {},
   "outputs": [],
   "source": [
    "iterator = iter(dataset)\n",
    "iterator"
   ]
  },
  {
   "cell_type": "markdown",
   "id": "rotary-blackberry",
   "metadata": {},
   "source": [
    "### Deep dive in loss calculation"
   ]
  },
  {
   "cell_type": "raw",
   "id": "neural-continent",
   "metadata": {},
   "source": [
    "experience, unused_info = next(iterator)\n",
    "experience"
   ]
  },
  {
   "cell_type": "raw",
   "id": "elect-barrier",
   "metadata": {},
   "source": [
    "loss_info = agent._loss(\n",
    "    experience,\n",
    "    td_errors_loss_fn=agent._td_errors_loss_fn,\n",
    "    gamma=agent._gamma,\n",
    "    reward_scale_factor=agent._reward_scale_factor,\n",
    "    weights=None,\n",
    "    training=True\n",
    ")\n",
    "loss_info"
   ]
  },
  {
   "cell_type": "raw",
   "id": "equal-inspector",
   "metadata": {},
   "source": [
    "transition = agent._as_transition(experience)\n",
    "time_steps, policy_steps, next_time_steps = transition\n",
    "actions = policy_steps.action\n",
    "transition"
   ]
  },
  {
   "cell_type": "raw",
   "id": "compressed-spanking",
   "metadata": {},
   "source": [
    "q_values = agent._compute_q_values(time_steps, actions, training=True)\n",
    "q_values"
   ]
  },
  {
   "cell_type": "raw",
   "id": "informational-biodiversity",
   "metadata": {},
   "source": [
    "next_q_values = agent._compute_next_q_values(next_time_steps, policy_steps.info)\n",
    "next_q_values"
   ]
  },
  {
   "cell_type": "raw",
   "id": "aging-understanding",
   "metadata": {},
   "source": [
    "def compute_td_targets(next_q_values, rewards, discounts):\n",
    "    return tf.stop_gradient(rewards + discounts * next_q_values)\n",
    "    \n",
    "td_targets = compute_td_targets(\n",
    "    next_q_values,\n",
    "    rewards=agent._reward_scale_factor * next_time_steps.reward,\n",
    "    discounts=agent._gamma * next_time_steps.discount\n",
    ")\n",
    "\n",
    "td_targets"
   ]
  },
  {
   "cell_type": "raw",
   "id": "existing-poetry",
   "metadata": {},
   "source": [
    "valid_mask = tf.cast(~time_steps.is_last(), tf.float32)\n",
    "td_error = valid_mask * (td_targets - q_values)\n",
    "td_error"
   ]
  },
  {
   "cell_type": "raw",
   "id": "confident-right",
   "metadata": {},
   "source": [
    "td_loss = valid_mask * agent._td_errors_loss_fn(td_targets, q_values)\n",
    "td_loss"
   ]
  },
  {
   "cell_type": "raw",
   "id": "liberal-heaven",
   "metadata": {},
   "source": [
    "agg_loss = common.aggregate_losses(\n",
    "    per_example_loss=td_loss,\n",
    "    sample_weight=None,\n",
    "    regularization_loss=agent._q_network.losses\n",
    ")\n",
    "total_loss = agg_loss.total_loss\n",
    "agg_loss"
   ]
  },
  {
   "cell_type": "raw",
   "id": "executive-cambridge",
   "metadata": {},
   "source": [
    "tf.reduce_mean(td_loss)"
   ]
  },
  {
   "cell_type": "markdown",
   "id": "rolled-discussion",
   "metadata": {},
   "source": [
    "# Train agent"
   ]
  },
  {
   "cell_type": "code",
   "execution_count": null,
   "id": "better-credits",
   "metadata": {},
   "outputs": [],
   "source": [
    "num_iterations = 5000\n",
    "num_epsilon_greedy_steps = 3000\n",
    "num_eval_episodes = 10\n",
    "collect_steps_per_iteration = 5\n",
    "log_interval = 500\n",
    "eval_interval = 500\n",
    "\n",
    "# (Optional) Optimize by wrapping some of the code in a graph using TF function.\n",
    "agent.train = common.function(agent.train)\n",
    "\n",
    "# Reset the train step\n",
    "agent.train_step_counter.assign(0)\n",
    "\n",
    "# Evaluate the agent's policy once before training.\n",
    "avg_return = compute_avg_return(eval_env, agent.policy, num_eval_episodes)\n",
    "returns = [avg_return]\n",
    "\n",
    "for _ in tqdm(range(num_iterations)):\n",
    "\n",
    "    # Collect a few steps using collect_policy and save to the replay buffer.\n",
    "    collect_data(train_env, agent.collect_policy, replay_buffer, collect_steps_per_iteration)\n",
    "\n",
    "    # Sample a batch of data from the buffer and update the agent's network.\n",
    "    experience, unused_info = next(iterator)\n",
    "    train_loss = agent.train(experience).loss\n",
    "\n",
    "    step = agent.train_step_counter.numpy()\n",
    "        \n",
    "    agent._epsilon_greedy = max(agent._epsilon_greedy - 1 / num_epsilon_greedy_steps, 0.0)\n",
    "        \n",
    "    if step % log_interval == 0:\n",
    "        print('step = {}: loss = {}'.format(step, train_loss))\n",
    "        avg_return = compute_avg_return(eval_env, agent.policy, num_eval_episodes)\n",
    "        print('step = {}: Average Return = {}'.format(step, avg_return))\n",
    "        returns.append(avg_return)"
   ]
  },
  {
   "cell_type": "markdown",
   "id": "through-chemistry",
   "metadata": {},
   "source": [
    "# Visualize q-values for all states"
   ]
  },
  {
   "cell_type": "code",
   "execution_count": null,
   "id": "sweet-distinction",
   "metadata": {
    "tags": []
   },
   "outputs": [],
   "source": [
    "iterations = range(0, num_iterations + 1, eval_interval)\n",
    "plt.plot(iterations, returns)\n",
    "plt.ylabel('Average Return')\n",
    "plt.xlabel('Iterations')"
   ]
  },
  {
   "cell_type": "code",
   "execution_count": null,
   "id": "strange-absolute",
   "metadata": {},
   "outputs": [],
   "source": [
    "q_table = agent._q_network(np.arange(16))[0].numpy()\n",
    "q_table = pd.DataFrame(data=q_table, columns=['left', 'down', 'right', 'up'])\n",
    "q_table.index.name = 'state'"
   ]
  },
  {
   "cell_type": "code",
   "execution_count": null,
   "id": "medium-toner",
   "metadata": {},
   "outputs": [],
   "source": [
    "# heatmap expected reward non-terminal states\n",
    "fig, ax = plt.subplots(figsize=(3, 6))\n",
    "\n",
    "terminal_states = eval_py_env.dead_states + [eval_py_env.gold_state]\n",
    "sns.heatmap(q_table.loc[~q_table.index.isin(terminal_states)], annot=q_table.loc[~q_table.index.isin(terminal_states)], cmap='coolwarm');"
   ]
  },
  {
   "cell_type": "code",
   "execution_count": null,
   "id": "herbal-verse",
   "metadata": {},
   "outputs": [],
   "source": [
    "# heatmap expected reward all states\n",
    "fig, ax = plt.subplots(figsize=(5, 7))\n",
    "\n",
    "sns.heatmap(q_table, annot=q_table, cmap='coolwarm');"
   ]
  },
  {
   "cell_type": "code",
   "execution_count": null,
   "id": "featured-country",
   "metadata": {},
   "outputs": [],
   "source": []
  },
  {
   "cell_type": "code",
   "execution_count": null,
   "id": "greenhouse-grenada",
   "metadata": {},
   "outputs": [],
   "source": []
  }
 ],
 "metadata": {
  "kernelspec": {
   "display_name": "rl",
   "language": "python",
   "name": "rl"
  },
  "language_info": {
   "codemirror_mode": {
    "name": "ipython",
    "version": 3
   },
   "file_extension": ".py",
   "mimetype": "text/x-python",
   "name": "python",
   "nbconvert_exporter": "python",
   "pygments_lexer": "ipython3",
   "version": "3.7.10"
  }
 },
 "nbformat": 4,
 "nbformat_minor": 5
}
